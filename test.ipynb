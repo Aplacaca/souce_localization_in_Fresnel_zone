{
 "cells": [
  {
   "cell_type": "code",
   "execution_count": 24,
   "metadata": {},
   "outputs": [],
   "source": [
    "import numpy as np"
   ]
  },
  {
   "cell_type": "markdown",
   "metadata": {},
   "source": [
    "# Steering Vector from Cartesian Position"
   ]
  },
  {
   "cell_type": "code",
   "execution_count": 68,
   "metadata": {},
   "outputs": [],
   "source": [
    "\n",
    "# write a function of near field steering vector\n",
    "# generate a function notation template\n",
    "\n",
    "def nf_steering(tx_pos, rx_pos, wav_len):\n",
    "    \"\"\"\n",
    "    Calculate the near field steering vector for a single transmitter-receiver pair from Cartesian positions.\n",
    "\n",
    "    Parameters:\n",
    "    tx_pos (numpy.ndarray): The position of the transmitter.\n",
    "    rx_pos (numpy.ndarray): The position of the receiver.\n",
    "    wav_len (float): The wavelength of the signal.\n",
    "\n",
    "    Returns:\n",
    "    complex: The near field steering vector.\n",
    "\n",
    "    \"\"\"\n",
    "    range = np.linalg.norm(tx_pos - rx_pos)\n",
    "    b = np.exp(-1j*2*np.pi/wav_len*range)\n",
    "    return b\n",
    "\n",
    "# write a function of near field ULA steering vector\n",
    "def nf_ULA_steering(ant_pos, obj_pos, wav_len):\n",
    "    \"\"\"\n",
    "    Calculate the near field ULA (Uniform Linear Array) steering vector for multiple antenna-object pairs.\n",
    "\n",
    "    Parameters:\n",
    "    ant_pos (numpy.ndarray): The positions of the antennas.\n",
    "    obj_pos (numpy.ndarray): The positions of the objects.\n",
    "    wav_len (float): The wavelength of the signal.\n",
    "\n",
    "    Returns:\n",
    "    numpy.ndarray: The near field ULA steering vector.\n",
    "\n",
    "    \"\"\"\n",
    "    rel_pos_vec = ant_pos - obj_pos\n",
    "    range_vec = np.linalg.norm(rel_pos_vec, axis=1)\n",
    "    b_vec = np.exp(-1j*2*np.pi/wav_len*range_vec) / range_vec\n",
    "    return b_vec\n"
   ]
  },
  {
   "cell_type": "markdown",
   "metadata": {},
   "source": [
    "# Steering Vector from Polar Position "
   ]
  },
  {
   "cell_type": "code",
   "execution_count": 50,
   "metadata": {},
   "outputs": [],
   "source": [
    "# nf steering vector polar\n",
    "def nf_steering_polar(theta, range, wav_len, n_ant, spacing_ratio = 0.5):\n",
    "    d = spacing_ratio * wav_len\n",
    "    delta_vec = (2 * np.arange(n_ant) - n_ant) / 2\n",
    "    r_vec = np.sqrt(np.power(range, 2) + \\\n",
    "            np.power(delta_vec, 2) * d**2 - \\\n",
    "            2 * range * delta_vec * d * np.cos(theta))\n",
    "    b_vec = np.exp(-1j * 2 * np.pi/wav_len * r_vec)\n",
    "    return b_vec\n",
    "\n",
    "# nf steering vector using Fresnel approximation\n",
    "def nf_steering_fresnel(theta, range, wav_len, n_ant, spacing_ratio = 0.5):\n",
    "    d = spacing_ratio * wav_len\n",
    "    delta_vec = (2 * np.arange(n_ant) - n_ant) / 2\n",
    "    r_vec = range - delta_vec * d * np.cos(theta) + (0.5 * 1/range) * np.power(delta_vec * d * np.sin(theta), 2)\n",
    "    b_vec = np.exp(-1j * 2 * np.pi/wav_len * r_vec)\n",
    "    return b_vec\n",
    "\n",
    "def range_fresnel_approx(theta, range, wav_len, n_ant, spacing_ratio = 0.5):\n",
    "    d = spacing_ratio * wav_len\n",
    "    delta_vec = (2 * np.arange(n_ant) - n_ant) / 2\n",
    "    fresnel_r_vec = np.sqrt(np.power(range, 2) + \\\n",
    "            np.power(delta_vec, 2) * d**2 - \\\n",
    "            2 * range * delta_vec * d * np.cos(theta))\n",
    "    r_vec = range - delta_vec * d * np.cos(theta) + (0.5 * 1/range) * np.power(delta_vec * d * np.sin(theta), 2)\n",
    "    \n",
    "    return fresnel_r_vec, r_vec\n",
    "    "
   ]
  },
  {
   "cell_type": "code",
   "execution_count": 67,
   "metadata": {},
   "outputs": [],
   "source": [
    "np.arange(3)\n",
    "np.sqrt([4,3,25])\n",
    "np.power([4,3,25],2)\n",
    "np.dot(np.array([1,1]), np.array([3,2]).T)\n",
    "\n",
    "theta = np.pi/3\n",
    "carrier_freq = 100 * 1e9\n",
    "wav_len = 3 * 1e8 / carrier_freq\n",
    "n_ant = 256\n",
    "spacing_ratio = 0.5\n",
    "D = n_ant * spacing_ratio * wav_len\n",
    "rayleigh_range = 2 * D**2 /  wav_len\n",
    "fresnel_range = 0.5 * np.sqrt(D ** 3 / wav_len)\n",
    "\n",
    "range = 10\n",
    "\n",
    "b_original = nf_steering_polar(theta, range, wav_len, n_ant)\n",
    "b_fresnel = nf_steering_fresnel(theta, range, wav_len, n_ant)\n",
    "\n",
    "diff = b_fresnel - b_original\n",
    "np.dot(diff, diff.T)\n",
    "\n",
    "r_vec_fresnel, r_vec = range_fresnel_approx(theta, range, wav_len, n_ant)\n",
    "NMSE_range = np.mean(abs(r_vec_fresnel - r_vec) / r_vec)\n",
    "\n",
    "NMSE_range_db = 10 * np.log10(NMSE_range)\n"
   ]
  }
 ],
 "metadata": {
  "kernelspec": {
   "display_name": "pytorch_env",
   "language": "python",
   "name": "python3"
  },
  "language_info": {
   "name": "python",
   "version": "3.9.-1"
  }
 },
 "nbformat": 4,
 "nbformat_minor": 2
}
